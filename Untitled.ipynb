{
 "cells": [
  {
   "cell_type": "code",
   "execution_count": null,
   "metadata": {},
   "outputs": [],
   "source": [
    "import random\n",
    "import numpy as np\n",
    "import matplotlib.pyplot as plt\n",
    "import time"
   ]
  },
  {
   "cell_type": "code",
   "execution_count": null,
   "metadata": {},
   "outputs": [],
   "source": [
    "def simple_roulette(choices, pockets):\n",
    " \"\"\"\n",
    " Simulates a roulette wheel with `choices` choices available to the player and\n",
    " `pockets` possible pockets on the wheel. Assumes player placed a bet on any single\n",
    " number (a \"straight up\" bet).\n",
    " \n",
    " :param list choices: a list of choices (e.g. ['1', '2', '3'] if there are 3 pockets - roulette has 36)\n",
    " :param list pockets: a list of pockets on the roulette wheel. For European roulette the user\n",
    " should pass choices + ['0'] while for American roulette the user should pass \n",
    " choices + ['0', '00']\n",
    " :return: Returns True if a random choice from `choices` wins (matches a random choice from\n",
    " pockets) - this assumes the player placed a \"straight up\" bet on a single pocket,\n",
    " otherwise returns False\n",
    " :rtype: bool\n",
    " \"\"\"\n",
    "raise NotImplementedError"
   ]
  },
  {
   "cell_type": "code",
   "execution_count": null,
   "metadata": {},
   "outputs": [],
   "source": [
    "def play_roulette(num_spins, choices, pockets):\n",
    " \"\"\"\n",
    " Plays `num_spins` games of roulette. Calls `simple_roulette` internally with appropriate\n",
    " values of `choices` and `pockets`. Assumes player places a bet of 1 on every spin, if\n",
    " they win the spin (as determined by `simple_roulette`) their winnings are incremented by\n",
    " the payout (defined as the number of choices minus 1), otherwise they lose their bet. \n",
    " :param int num_spins: Number of spins to simulate\n",
    " :param list choices: a list of choices (e.g. ['1', '2', '3'] if there are 3 pockets)\n",
    " :param list pockets: a list of pockets on the roulette wheel. For European roulette this\n",
    " will be equal to choices + ['0'] while for American roulette this will be equal to\n",
    " choices + ['0', '00']\n",
    " :return: Expected value of a bet of 1 (e.g. if 0, means that on average player gets their\n",
    " bet back, a positive value means the player makes money on average, and a negative number\n",
    " means the player loses money on average)\n",
    " \"\"\"\n",
    " raise NotImplementedError"
   ]
  },
  {
   "cell_type": "code",
   "execution_count": null,
   "metadata": {},
   "outputs": [],
   "source": [
    "def test_roulette(roulette_func):\n",
    " \"\"\"\n",
    " Accepts a roulette function (i.e. either play_roulette or play_roulette_numpy), and uses it \n",
    " to simulate fair, European, and American roulette games for some number of spins and prints\n",
    " the estimate of the expected value. This function iterates through a number of spins, \n",
    " [1000, 10000, 100000, 1000000, 10000000], printing the estimated value of the expected value\n",
    " for fair, American, and European roulette after each of these number of spins. Note that each \n",
    " set of trials for each of these numbers of spins is independent of the last (so you can simply\n",
    " call roulette_func for each of the number of spins - no need to make use of the results from\n",
    " the previous / lower number of spins). \n",
    " :param roulette_func: The function to use to estimate the expected value of a gambler's bet (should\n",
    " accept the number of spins, a list of available choices, and a list of available pockets).\n",
    " \"\"\"\n",
    " raise NotImplementedError"
   ]
  },
  {
   "cell_type": "code",
   "execution_count": null,
   "metadata": {},
   "outputs": [],
   "source": [
    "def play_roulette_numpy(num_spins, choices, pockets): \n",
    " \"\"\"\n",
    " Uses numpy's random.choice module and vector math internally to simulate the expected value of\n",
    " a bet of 1 over num_spins trials (WITHOUT using iteration). Should only require a few lines \n",
    " of code (~3-4) to solve in a way which is clearly readable. Self contained / does not need to \n",
    " call an external function like we did earlier (with play_roulette calling simple_roulette). \n",
    " :param int num_spins: Number of spins to simulate\n",
    " :param list choices: a list of choices (e.g. ['1', '2', '3'] if there are 3 pockets)\n",
    " :param list pockets: a list of pockets on the roulette wheel. For European roulette the user\n",
    " should pass choices + ['0'] while for American roulette the user should pass \n",
    " choices + ['0', '00']\n",
    " :return: Expected value of a bet of 1 (e.g. if 0, means that on average player gets their\n",
    " bet back, a positive value means the player makes money on average, and a negative number\n",
    " means the player loses money on average)\n",
    " \"\"\"\n",
    " raise NotImplementedError"
   ]
  },
  {
   "cell_type": "code",
   "execution_count": null,
   "metadata": {},
   "outputs": [],
   "source": [
    "def plot_american_roulette(num_spins_max):\n",
    " \"\"\"\n",
    " This is a little different from the previous functions since we want to plot the\n",
    " expected value vs. the number of spins. Internally this function uses simple_roulette\n",
    " and builds a list by appending the currently estimated expected value after each spin up\n",
    " to `num_spins_max`, then plots this vs. number of spins. y limits are forced to be between \n",
    " -.1 and .1 to avoid extreme values hiding what's going on.\n",
    " :param int num_spins_max: How many times to spin\n",
    " :return: Nothing\n",
    " :rtype: None\n",
    " \"\"\"\n",
    " raise NotImplementedError"
   ]
  },
  {
   "cell_type": "code",
   "execution_count": 2,
   "metadata": {},
   "outputs": [
    {
     "name": "stdout",
     "output_type": "stream",
     "text": [
      "Testing using standard Python iteration\n"
     ]
    },
    {
     "ename": "NameError",
     "evalue": "name 'time' is not defined",
     "output_type": "error",
     "traceback": [
      "\u001b[0;31m---------------------------------------------------------------------------\u001b[0m",
      "\u001b[0;31mNameError\u001b[0m                                 Traceback (most recent call last)",
      "\u001b[0;32m<ipython-input-2-37460e00c1c8>\u001b[0m in \u001b[0;36m<module>\u001b[0;34m()\u001b[0m\n\u001b[1;32m      1\u001b[0m \u001b[0;32mif\u001b[0m \u001b[0m__name__\u001b[0m \u001b[0;34m==\u001b[0m \u001b[0;34m'__main__'\u001b[0m\u001b[0;34m:\u001b[0m\u001b[0;34m\u001b[0m\u001b[0m\n\u001b[1;32m      2\u001b[0m  \u001b[0mprint\u001b[0m\u001b[0;34m(\u001b[0m\u001b[0;34m'Testing using standard Python iteration'\u001b[0m\u001b[0;34m)\u001b[0m\u001b[0;34m\u001b[0m\u001b[0m\n\u001b[0;32m----> 3\u001b[0;31m  \u001b[0mstart\u001b[0m \u001b[0;34m=\u001b[0m \u001b[0mtime\u001b[0m\u001b[0;34m.\u001b[0m\u001b[0mclock\u001b[0m\u001b[0;34m(\u001b[0m\u001b[0;34m)\u001b[0m\u001b[0;34m\u001b[0m\u001b[0m\n\u001b[0m\u001b[1;32m      4\u001b[0m  \u001b[0mtest_roulette\u001b[0m\u001b[0;34m(\u001b[0m\u001b[0mplay_roulette\u001b[0m\u001b[0;34m)\u001b[0m\u001b[0;34m\u001b[0m\u001b[0m\n\u001b[1;32m      5\u001b[0m  \u001b[0mprint\u001b[0m\u001b[0;34m(\u001b[0m\u001b[0;34m'Testing took {} seconds\\n'\u001b[0m\u001b[0;34m.\u001b[0m\u001b[0mformat\u001b[0m\u001b[0;34m(\u001b[0m\u001b[0mtime\u001b[0m\u001b[0;34m.\u001b[0m\u001b[0mclock\u001b[0m\u001b[0;34m(\u001b[0m\u001b[0;34m)\u001b[0m \u001b[0;34m-\u001b[0m \u001b[0mstart\u001b[0m\u001b[0;34m)\u001b[0m\u001b[0;34m)\u001b[0m\u001b[0;34m\u001b[0m\u001b[0m\n",
      "\u001b[0;31mNameError\u001b[0m: name 'time' is not defined"
     ]
    }
   ],
   "source": [
    "if __name__ == '__main__':\n",
    " print('Testing using standard Python iteration')\n",
    " start = time.clock()\n",
    " test_roulette(play_roulette)\n",
    " print('Testing took {} seconds\\n'.format(time.clock() - start))\n",
    " print('Testing using Numpy')\n",
    " start = time.clock()\n",
    " test_roulette(play_roulette_numpy)\n",
    " print('Testing took {} seconds\\n'.format(time.clock() - start))\n",
    " print('Generating plot of expected value estimate over 1,000,000 spins')\n",
    " plot_american_roulette(1000000)"
   ]
  },
  {
   "cell_type": "code",
   "execution_count": null,
   "metadata": {},
   "outputs": [],
   "source": []
  }
 ],
 "metadata": {
  "kernelspec": {
   "display_name": "Python 3",
   "language": "python",
   "name": "python3"
  },
  "language_info": {
   "codemirror_mode": {
    "name": "ipython",
    "version": 3
   },
   "file_extension": ".py",
   "mimetype": "text/x-python",
   "name": "python",
   "nbconvert_exporter": "python",
   "pygments_lexer": "ipython3",
   "version": "3.6.4"
  }
 },
 "nbformat": 4,
 "nbformat_minor": 2
}
